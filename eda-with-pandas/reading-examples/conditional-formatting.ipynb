{
 "cells": [
  {
   "cell_type": "markdown",
   "id": "523eb203-64f5-44f0-bc06-0c356d2a3ab8",
   "metadata": {},
   "source": [
    "# One Column, One Condition"
   ]
  },
  {
   "cell_type": "code",
   "execution_count": 2,
   "id": "650a598d-cf81-45c7-a5a0-05f33317cc18",
   "metadata": {},
   "outputs": [
    {
     "name": "stdout",
     "output_type": "stream",
     "text": [
      "           Name  Release            Genre\n",
      "0  Interstellar     2014  Science Fiction\n",
      "2     Inception     2010  Science Fiction\n"
     ]
    }
   ],
   "source": [
    "# import pandas\n",
    "import pandas as pd\n",
    "\n",
    "# Create a pandas DataFrame using a dictionary\n",
    "movies = {'Name': [\"Interstellar\", \"Pride and Prejudice\", \"Inception\", \"Barbie\"],'Release': [2014, 2005, 2010, 2003], 'Genre': [\"Science Fiction\", \"Novel\", \"Science Fiction\", \"Comedy\"]}\n",
    "\n",
    "movies_dataframe = pd.DataFrame(movies)\n",
    "\n",
    "# Select only movies from the Science Fiction genre\n",
    "science_fiction = movies_dataframe[movies_dataframe['Genre'] == \"Science Fiction\"]\n",
    "\n",
    "# Print the data\n",
    "print(science_fiction)"
   ]
  },
  {
   "cell_type": "markdown",
   "id": "0a531122-7e2f-4210-b3db-6b89bc8a1b99",
   "metadata": {},
   "source": [
    "# Multiple Columns, Two Conditions"
   ]
  },
  {
   "cell_type": "code",
   "execution_count": 3,
   "id": "ef04e55a-79a1-458a-ae9a-07557aaa18bc",
   "metadata": {},
   "outputs": [
    {
     "name": "stdout",
     "output_type": "stream",
     "text": [
      "        Name  Release            Genre\n",
      "2  Inception     2010  Science Fiction\n"
     ]
    }
   ],
   "source": [
    "# import pandas\n",
    "import pandas as pd\n",
    "\n",
    "# Create a pandas DataFrame using a dictionary\n",
    "movies = {'Name': [\"Interstellar\", \"Pride and Prejudice\", \"Inception\", \"Barbie\"],'Release': [2014, 2005, 2010, 2003], 'Genre': [\"Science Fiction\", \"Novel\", \"Science Fiction\", \"Comedy\"]}\n",
    "\n",
    "movies_dataframe = pd.DataFrame(movies)\n",
    "\n",
    "# Select only movies from the Science Fiction genre\n",
    "science_fiction = movies_dataframe[(movies_dataframe['Genre'] == \"Science Fiction\") & (movies_dataframe['Release'] <= 2010)]\n",
    "\n",
    "# Print the data\n",
    "print(science_fiction)"
   ]
  },
  {
   "cell_type": "code",
   "execution_count": null,
   "id": "3267a577-37c3-4714-a2a0-8435ee3096aa",
   "metadata": {},
   "outputs": [],
   "source": []
  }
 ],
 "metadata": {
  "kernelspec": {
   "display_name": "Python 3 (ipykernel)",
   "language": "python",
   "name": "python3"
  },
  "language_info": {
   "codemirror_mode": {
    "name": "ipython",
    "version": 3
   },
   "file_extension": ".py",
   "mimetype": "text/x-python",
   "name": "python",
   "nbconvert_exporter": "python",
   "pygments_lexer": "ipython3",
   "version": "3.12.5"
  }
 },
 "nbformat": 4,
 "nbformat_minor": 5
}

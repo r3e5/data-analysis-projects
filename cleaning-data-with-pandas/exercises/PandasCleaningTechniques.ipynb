{
 "cells": [
  {
   "cell_type": "markdown",
   "metadata": {},
   "source": [
    "# Cleaning Data with Pandas Exercises\n",
    "\n",
    "For the exercises, you will be cleaning data in the Women's Clothing E-Commerce Reviews dataset.\n",
    "\n",
    "To start cleaning data, we first need to create a dataframe from the CSV and print out any relevant info to make sure our dataframe is ready to go."
   ]
  },
  {
   "cell_type": "code",
   "execution_count": 99,
   "metadata": {},
   "outputs": [],
   "source": [
    "# Import pandas and any other libraries you need here.\n",
    "import pandas as pd\n",
    "import matplotlib as mpl\n",
    "import numpy as np\n",
    "\n",
    "# Create a new dataframe from your CSV\n",
    "file_path = 'Womens Clothing E-Commerce Reviews.csv'\n",
    "df = pd.read_csv(file_path)"
   ]
  },
  {
   "cell_type": "code",
   "execution_count": 100,
   "metadata": {},
   "outputs": [
    {
     "data": {
      "text/plain": [
       "Index(['Unnamed: 0', 'Clothing ID', 'Age', 'Title', 'Review Text', 'Rating',\n",
       "       'Recommended IND', 'Positive Feedback Count', 'Division Name',\n",
       "       'Department Name', 'Class Name'],\n",
       "      dtype='object')"
      ]
     },
     "execution_count": 100,
     "metadata": {},
     "output_type": "execute_result"
    }
   ],
   "source": [
    "# Print out any information you need to understand your dataframe\n",
    "# df.shape\n",
    "# df.info\n",
    "# df.describe\n",
    "df.columns"
   ]
  },
  {
   "cell_type": "markdown",
   "metadata": {},
   "source": [
    "## Missing Data\n",
    "\n",
    "Try out different methods to locate and resolve missing data."
   ]
  },
  {
   "cell_type": "code",
   "execution_count": 95,
   "metadata": {},
   "outputs": [
    {
     "name": "stdout",
     "output_type": "stream",
     "text": [
      "       Unnamed: 0  Clothing ID  Age  \\\n",
      "0               0          767   33   \n",
      "1               1         1080   34   \n",
      "2               2         1077   60   \n",
      "3               3         1049   50   \n",
      "4               4          847   47   \n",
      "...           ...          ...  ...   \n",
      "23481       23481         1104   34   \n",
      "23482       23482          862   48   \n",
      "23483       23483         1104   31   \n",
      "23484       23484         1084   28   \n",
      "23485       23485         1104   52   \n",
      "\n",
      "                                                   Title  \\\n",
      "0                                        Untitled Review   \n",
      "1                                        Untitled Review   \n",
      "2                                Some major design flaws   \n",
      "3                                       My favorite buy!   \n",
      "4                                       Flattering shirt   \n",
      "...                                                  ...   \n",
      "23481                     Great dress for many occasions   \n",
      "23482                         Wish it was made of cotton   \n",
      "23483                              Cute, but see through   \n",
      "23484  Very cute dress, perfect for summer parties an...   \n",
      "23485                    Please make more like this one!   \n",
      "\n",
      "                                             Review Text  Rating  \\\n",
      "0      Absolutely wonderful - silky and sexy and comf...       4   \n",
      "1      Love this dress!  it's sooo pretty.  i happene...       5   \n",
      "2      I had such high hopes for this dress and reall...       3   \n",
      "3      I love, love, love this jumpsuit. it's fun, fl...       5   \n",
      "4      This shirt is very flattering to all due to th...       5   \n",
      "...                                                  ...     ...   \n",
      "23481  I was very happy to snag this dress at such a ...       5   \n",
      "23482  It reminds me of maternity clothes. soft, stre...       3   \n",
      "23483  This fit well, but the top was very see throug...       3   \n",
      "23484  I bought this dress for a wedding i have this ...       3   \n",
      "23485  This dress in a lovely platinum is feminine an...       5   \n",
      "\n",
      "       Recommended IND  Positive Feedback Count   Division Name  \\\n",
      "0                    1                        0       Initmates   \n",
      "1                    1                        4         General   \n",
      "2                    0                        0         General   \n",
      "3                    1                        0  General Petite   \n",
      "4                    1                        6         General   \n",
      "...                ...                      ...             ...   \n",
      "23481                1                        0  General Petite   \n",
      "23482                1                        0  General Petite   \n",
      "23483                0                        1  General Petite   \n",
      "23484                1                        2         General   \n",
      "23485                1                       22  General Petite   \n",
      "\n",
      "      Department Name Class Name  \n",
      "0            Intimate  Intimates  \n",
      "1             Dresses    Dresses  \n",
      "2             Dresses    Dresses  \n",
      "3             Bottoms      Pants  \n",
      "4                Tops    Blouses  \n",
      "...               ...        ...  \n",
      "23481         Dresses    Dresses  \n",
      "23482            Tops      Knits  \n",
      "23483         Dresses    Dresses  \n",
      "23484         Dresses    Dresses  \n",
      "23485         Dresses    Dresses  \n",
      "\n",
      "[23472 rows x 11 columns]\n"
     ]
    }
   ],
   "source": [
    "# Try to find some missing data!\n",
    "title_replacement = {\"Title\": \"Untitled Review\"}\n",
    "df= df.fillna(value=title_replacement)\n",
    "text_replacement = {\"Review Text\": \"Left Blank\"}\n",
    "df =df.fillna(value=text_replacement)\n",
    "df = df.dropna(subset=['Division Name'],how= 'any')\n",
    "df = df.dropna(subset=['Class Name'],how= 'any')\n",
    "df = df.dropna(subset=['Department Name'],how= 'any')\n",
    "# df.isna().sum()\n",
    "print(df)\n",
    "\n"
   ]
  },
  {
   "cell_type": "markdown",
   "metadata": {},
   "source": [
    "Did you find any missing data? What things worked well for you and what did not?"
   ]
  },
  {
   "cell_type": "code",
   "execution_count": null,
   "metadata": {},
   "outputs": [],
   "source": [
    "# Respond to the above questions here:\n",
    "# Some of the titles were missing, i replaced them with \"Untitled Review\" to be more descriptive.\n",
    "# dropping any rows that were completely blank did using df.dropna(how=\"all\") didnt do anything\n",
    "# because non of the rows were completely blank so that was good.\n",
    "# I did drop the rows that were missing the division name etc because 14 rows didnt seem too impactful to lose."
   ]
  },
  {
   "cell_type": "markdown",
   "metadata": {},
   "source": [
    "## Irregular Data\n",
    "\n",
    "With missing data out of the way, turn your attention to any outliers. Just as we did for missing data, we first need to detect the outliers."
   ]
  },
  {
   "cell_type": "code",
   "execution_count": 112,
   "metadata": {},
   "outputs": [
    {
     "data": {
      "text/html": [
       "<div>\n",
       "<style scoped>\n",
       "    .dataframe tbody tr th:only-of-type {\n",
       "        vertical-align: middle;\n",
       "    }\n",
       "\n",
       "    .dataframe tbody tr th {\n",
       "        vertical-align: top;\n",
       "    }\n",
       "\n",
       "    .dataframe thead th {\n",
       "        text-align: right;\n",
       "    }\n",
       "</style>\n",
       "<table border=\"1\" class=\"dataframe\">\n",
       "  <thead>\n",
       "    <tr style=\"text-align: right;\">\n",
       "      <th></th>\n",
       "      <th>Unnamed: 0</th>\n",
       "      <th>Clothing ID</th>\n",
       "      <th>Age</th>\n",
       "      <th>Rating</th>\n",
       "      <th>Recommended IND</th>\n",
       "      <th>Positive Feedback Count</th>\n",
       "    </tr>\n",
       "  </thead>\n",
       "  <tbody>\n",
       "    <tr>\n",
       "      <th>count</th>\n",
       "      <td>23329.000000</td>\n",
       "      <td>23329.000000</td>\n",
       "      <td>23329.000000</td>\n",
       "      <td>23329.000000</td>\n",
       "      <td>23329.000000</td>\n",
       "      <td>23329.000000</td>\n",
       "    </tr>\n",
       "    <tr>\n",
       "      <th>mean</th>\n",
       "      <td>11741.492006</td>\n",
       "      <td>918.192293</td>\n",
       "      <td>42.934031</td>\n",
       "      <td>4.194479</td>\n",
       "      <td>0.822067</td>\n",
       "      <td>2.536757</td>\n",
       "    </tr>\n",
       "    <tr>\n",
       "      <th>std</th>\n",
       "      <td>6777.742179</td>\n",
       "      <td>203.142638</td>\n",
       "      <td>11.882645</td>\n",
       "      <td>1.110004</td>\n",
       "      <td>0.382465</td>\n",
       "      <td>5.713438</td>\n",
       "    </tr>\n",
       "    <tr>\n",
       "      <th>min</th>\n",
       "      <td>0.000000</td>\n",
       "      <td>0.000000</td>\n",
       "      <td>18.000000</td>\n",
       "      <td>1.000000</td>\n",
       "      <td>0.000000</td>\n",
       "      <td>0.000000</td>\n",
       "    </tr>\n",
       "    <tr>\n",
       "      <th>25%</th>\n",
       "      <td>5870.000000</td>\n",
       "      <td>861.000000</td>\n",
       "      <td>34.000000</td>\n",
       "      <td>4.000000</td>\n",
       "      <td>1.000000</td>\n",
       "      <td>0.000000</td>\n",
       "    </tr>\n",
       "    <tr>\n",
       "      <th>50%</th>\n",
       "      <td>11744.000000</td>\n",
       "      <td>936.000000</td>\n",
       "      <td>41.000000</td>\n",
       "      <td>5.000000</td>\n",
       "      <td>1.000000</td>\n",
       "      <td>1.000000</td>\n",
       "    </tr>\n",
       "    <tr>\n",
       "      <th>75%</th>\n",
       "      <td>17610.000000</td>\n",
       "      <td>1078.000000</td>\n",
       "      <td>51.000000</td>\n",
       "      <td>5.000000</td>\n",
       "      <td>1.000000</td>\n",
       "      <td>3.000000</td>\n",
       "    </tr>\n",
       "    <tr>\n",
       "      <th>max</th>\n",
       "      <td>23485.000000</td>\n",
       "      <td>1205.000000</td>\n",
       "      <td>76.000000</td>\n",
       "      <td>5.000000</td>\n",
       "      <td>1.000000</td>\n",
       "      <td>122.000000</td>\n",
       "    </tr>\n",
       "  </tbody>\n",
       "</table>\n",
       "</div>"
      ],
      "text/plain": [
       "         Unnamed: 0   Clothing ID           Age        Rating  \\\n",
       "count  23329.000000  23329.000000  23329.000000  23329.000000   \n",
       "mean   11741.492006    918.192293     42.934031      4.194479   \n",
       "std     6777.742179    203.142638     11.882645      1.110004   \n",
       "min        0.000000      0.000000     18.000000      1.000000   \n",
       "25%     5870.000000    861.000000     34.000000      4.000000   \n",
       "50%    11744.000000    936.000000     41.000000      5.000000   \n",
       "75%    17610.000000   1078.000000     51.000000      5.000000   \n",
       "max    23485.000000   1205.000000     76.000000      5.000000   \n",
       "\n",
       "       Recommended IND  Positive Feedback Count  \n",
       "count     23329.000000             23329.000000  \n",
       "mean          0.822067                 2.536757  \n",
       "std           0.382465                 5.713438  \n",
       "min           0.000000                 0.000000  \n",
       "25%           1.000000                 0.000000  \n",
       "50%           1.000000                 1.000000  \n",
       "75%           1.000000                 3.000000  \n",
       "max           1.000000               122.000000  "
      ]
     },
     "execution_count": 112,
     "metadata": {},
     "output_type": "execute_result"
    }
   ],
   "source": [
    "# Keep an eye out for outliers!\n",
    "\n",
    "lower_quartile_age = df['Age'].quantile(0.25)\n",
    "upper_quartile_age = df['Age'].quantile(0.75)\n",
    "IQR = upper_quartile_age - lower_quartile_age\n",
    "lowest_age = lower_quartile_age - 1.5 * IQR\n",
    "highest_age = upper_quartile_age + 1.5* IQR\n",
    "age_outlier = (df['Age'] < lowest_age) | (df['Age'] > highest_age)\n",
    "df = df[~age_outlier]\n",
    "df.describe()\n"
   ]
  },
  {
   "cell_type": "markdown",
   "metadata": {},
   "source": [
    "What techniques helped you find outliers? In your opinion, what about the techniques you used made them effective?"
   ]
  },
  {
   "cell_type": "code",
   "execution_count": null,
   "metadata": {},
   "outputs": [],
   "source": [
    "# Make your notes here:\n",
    "# Here using the IQR to identify outliers in the age columns was easy, some patrons could have been 99 years old but \n",
    "# eliminating them shouldnt affect the data too much."
   ]
  },
  {
   "cell_type": "markdown",
   "metadata": {},
   "source": [
    "## Unnecessary Data\n",
    "\n",
    "Unnecessary data could be irrelevant to your analysis or a duplice column. Check out the dataset to see if there is any unnecessary data."
   ]
  },
  {
   "cell_type": "code",
   "execution_count": 119,
   "metadata": {},
   "outputs": [
    {
     "data": {
      "text/plain": [
       "Index(['Clothing ID', 'Age', 'Title', 'Review Text', 'Rating',\n",
       "       'Recommended IND', 'Positive Feedback Count', 'Department Name'],\n",
       "      dtype='object')"
      ]
     },
     "execution_count": 119,
     "metadata": {},
     "output_type": "execute_result"
    }
   ],
   "source": [
    "# Look out for unnecessary data!\n",
    "\n",
    "df = df.drop(columns=['Unnamed: 0'])\n",
    "df.columns"
   ]
  },
  {
   "cell_type": "markdown",
   "metadata": {},
   "source": [
    "Did you find any unnecessary data in your dataset? How did you handle it?"
   ]
  },
  {
   "cell_type": "code",
   "execution_count": null,
   "metadata": {},
   "outputs": [],
   "source": [
    "# Make your notes here.\n",
    "# Here i believe that the division name and class name columns are redundant witht he department name and the unnamed: 0 column seems to be sa repeat index"
   ]
  },
  {
   "cell_type": "markdown",
   "metadata": {},
   "source": [
    "## Inconsistent Data\n",
    "\n",
    "Inconsistent data is likely due to inconsistent formatting and can be addressed by re-formatting all values in a column or row."
   ]
  },
  {
   "cell_type": "code",
   "execution_count": 127,
   "metadata": {},
   "outputs": [
    {
     "data": {
      "text/plain": [
       "Clothing ID                 int64\n",
       "Age                         int64\n",
       "Title                      object\n",
       "Review Text                object\n",
       "Rating                      int64\n",
       "Recommended IND             int64\n",
       "Positive Feedback Count     int64\n",
       "Department Name            object\n",
       "Recommend IND                bool\n",
       "dtype: object"
      ]
     },
     "execution_count": 127,
     "metadata": {},
     "output_type": "execute_result"
    }
   ],
   "source": [
    "# Look out for inconsistent data!\n",
    "\n",
    "df['Recommend IND'] = df['Recommended IND'].astype('bool')\n",
    "df.dtypes"
   ]
  },
  {
   "cell_type": "markdown",
   "metadata": {},
   "source": [
    "Did you find any inconsistent data? What did you do to clean it?"
   ]
  },
  {
   "cell_type": "code",
   "execution_count": null,
   "metadata": {},
   "outputs": [],
   "source": [
    "# Make your notes here!\n",
    "# Here i changes the datatype for the Recommended IND to a boolean value from a binary value to make it easier to read and hopefully to work with."
   ]
  }
 ],
 "metadata": {
  "kernelspec": {
   "display_name": "Python 3 (ipykernel)",
   "language": "python",
   "name": "python3"
  },
  "language_info": {
   "codemirror_mode": {
    "name": "ipython",
    "version": 3
   },
   "file_extension": ".py",
   "mimetype": "text/x-python",
   "name": "python",
   "nbconvert_exporter": "python",
   "pygments_lexer": "ipython3",
   "version": "3.12.5"
  }
 },
 "nbformat": 4,
 "nbformat_minor": 4
}
